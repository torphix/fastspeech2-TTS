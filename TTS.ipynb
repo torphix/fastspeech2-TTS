{
 "cells": [
  {
   "cell_type": "code",
   "execution_count": 4,
   "id": "345e8a21",
   "metadata": {},
   "outputs": [],
   "source": [
    "import os\n",
    "import yaml\n",
    "import json\n",
    "import torch\n",
    "import numpy as np\n",
    "from main import inference, train\n",
    "from tsnecuda import TSNE\n",
    "import random\n",
    "import matplotlib.pyplot as plt\n",
    "import pandas as pd\n",
    "import seaborn as sns\n",
    "import IPython"
   ]
  },
  {
   "cell_type": "code",
   "execution_count": 2,
   "id": "0d7d5a34",
   "metadata": {},
   "outputs": [],
   "source": [
    "# Data exploring methods\n",
    "\n",
    "def visualize_speaker_emb(data_path, k_sample):\n",
    "    values = []\n",
    "    for speaker in os.listdir(data_path)[:50]:\n",
    "        fname = f'{data_path}/{speaker}/speaker'\n",
    "        fnames = random.choices([f'{fname}/{f}' for f in os.listdir(fname)], k=k_sample)\n",
    "        speaker_emb = [np.load(name) for name in fnames]\n",
    "        values += speaker_emb\n",
    "    X_embedded = TSNE(n_components=2, perplexity=15, learning_rate=10).fit_transform(np.array(values).squeeze(1))\n",
    "    speaker_idx=np.arange(len(os.listdir(data_path)[:50]))\n",
    "    speaker_idx=np.repeat(speaker_idx, k_sample)\n",
    "    \n",
    "    tsne_df = pd.DataFrame({'X':embedded[:,1],\n",
    "                        'Y':embedded[:,0],\n",
    "                        'speaker':speaker_idxs})\n",
    "\n",
    "    sns.scatterplot(x='X', y='Y', data=tsne_df,\n",
    "                    hue=\"speaker\",\n",
    "                    palette='Accent')\n",
    "    \n",
    "    return X_embedded, speaker_idx\n",
    "    \n",
    "\n",
    "\n",
    "def plot_mel(mel, energy, pitch, metadata, titles=['mel','energy','pitch']):\n",
    "    pitch_min = metadata['pitch']['min'] * metadata['pitch']['std'] + metadata['pitch']['mean']\n",
    "    pitch_max = metadata['pitch']['max'] * metadata['pitch']['std'] + metadata['pitch']['mean']\n",
    "    pitch = pitch * metadata['pitch']['std'] + metadata['pitch']['mean']\n",
    "    energy_min = metadata['energy']['min']\n",
    "    energy_max = metadata['energy']['max']\n",
    "\n",
    "    data = (mel, energy, pitch)\n",
    "    fig, axes = plt.subplots(len(data), 1, squeeze=False)\n",
    "    \n",
    "    def _add_axis(fig, old_ax):\n",
    "        ax = fig.add_axes(old_ax.get_position(), anchor=\"W\")\n",
    "        ax.set_facecolor(\"None\")\n",
    "        return ax\n",
    "    \n",
    "    axes[0][0].imshow(mel, origin=\"lower\")\n",
    "    axes[0][0].set_aspect(2.5, adjustable=\"box\")\n",
    "    axes[0][0].set_ylim(0, mel.shape[0])\n",
    "    axes[0][0].set_title('Mel', fontsize=\"medium\")\n",
    "    axes[0][0].tick_params(labelsize=\"x-small\", left=False, labelleft=False)\n",
    "    axes[0][0].set_anchor(\"W\")  \n",
    "\n",
    "    ax1 = _add_axis(fig, axes[0][0])\n",
    "    ax1.plot(pitch, color=\"tomato\")\n",
    "    ax1.set_xlim(0, mel.shape[1])\n",
    "    ax1.set_ylim(0, pitch_max)\n",
    "    ax1.set_ylabel(\"F0\", color=\"tomato\")\n",
    "    ax1.tick_params(\n",
    "        labelsize=\"x-small\", colors=\"tomato\", bottom=False, labelbottom=False\n",
    "    )\n",
    "\n",
    "    ax2 = _add_axis(fig, axes[0][0])\n",
    "    ax2.plot(energy, color=\"darkviolet\")\n",
    "    ax2.set_xlim(0, mel.shape[1])\n",
    "    ax2.set_ylim(energy_min, energy_max)\n",
    "    ax2.set_ylabel(\"Energy\", color=\"darkviolet\")\n",
    "    ax2.yaxis.set_label_position(\"right\")\n",
    "    ax2.tick_params(\n",
    "        labelsize=\"x-small\",\n",
    "        colors=\"darkviolet\",\n",
    "        bottom=False,\n",
    "        labelbottom=False,\n",
    "        left=False,\n",
    "        labelleft=False,\n",
    "        right=True,\n",
    "        labelright=True,\n",
    "    )\n",
    "    return fig"
   ]
  },
  {
   "cell_type": "code",
   "execution_count": 3,
   "id": "54863185",
   "metadata": {
    "scrolled": false
   },
   "outputs": [
    {
     "name": "stdout",
     "output_type": "stream",
     "text": [
      "Raw Text Sequence: Hi! How are you doing\n",
      "Phoneme Sequence: {HH AY1 sp HH AW1 AA1 R Y UW1 D UW1 IH0 NG}\n",
      "Converting Melspectrogram to wav file\n"
     ]
    },
    {
     "name": "stderr",
     "output_type": "stream",
     "text": [
      "/home/j/Desktop/Programming/AI/DeepLearning/tts/hifi_gan/inference.py:40: UserWarning: To copy construct from a tensor, it is recommended to use sourceTensor.clone().detach() or sourceTensor.clone().detach().requires_grad_(True), rather than torch.tensor(sourceTensor).\n",
      "  torch.tensor(mel, device=device))\n",
      "100%|████████████████████████████████████████████████████| 1/1 [00:00<00:00, 2054.02it/s]"
     ]
    },
    {
     "name": "stdout",
     "output_type": "stream",
     "text": [
      "TTS generation complete! outputs saved to output_wavs\n"
     ]
    },
    {
     "name": "stderr",
     "output_type": "stream",
     "text": [
      "\n"
     ]
    },
    {
     "ename": "NameError",
     "evalue": "name 'duration' is not defined",
     "output_type": "error",
     "traceback": [
      "\u001b[0;31m---------------------------------------------------------------------------\u001b[0m",
      "\u001b[0;31mNameError\u001b[0m                                 Traceback (most recent call last)",
      "\u001b[0;32m/tmp/ipykernel_666843/99321454.py\u001b[0m in \u001b[0;36m<module>\u001b[0;34m\u001b[0m\n\u001b[1;32m     18\u001b[0m durations = torch.clamp(\n\u001b[1;32m     19\u001b[0m     (torch.round(torch.exp(log_duration_preds) - 1)), min=0)\n\u001b[0;32m---> 20\u001b[0;31m \u001b[0mpitch_preds\u001b[0m \u001b[0;34m=\u001b[0m \u001b[0mtorch\u001b[0m\u001b[0;34m.\u001b[0m\u001b[0mrepeat_interleave\u001b[0m\u001b[0;34m(\u001b[0m\u001b[0mpitch_preds\u001b[0m\u001b[0;34m,\u001b[0m \u001b[0mduration\u001b[0m\u001b[0;34m.\u001b[0m\u001b[0mlong\u001b[0m\u001b[0;34m(\u001b[0m\u001b[0;34m)\u001b[0m\u001b[0;34m,\u001b[0m \u001b[0mdim\u001b[0m\u001b[0;34m=\u001b[0m\u001b[0;36m0\u001b[0m\u001b[0;34m)\u001b[0m\u001b[0;34m\u001b[0m\u001b[0;34m\u001b[0m\u001b[0m\n\u001b[0m\u001b[1;32m     21\u001b[0m \u001b[0menergy_preds\u001b[0m \u001b[0;34m=\u001b[0m \u001b[0mtorch\u001b[0m\u001b[0;34m.\u001b[0m\u001b[0mrepeat_interleave\u001b[0m\u001b[0;34m(\u001b[0m\u001b[0menergy_preds\u001b[0m\u001b[0;34m,\u001b[0m \u001b[0mduration\u001b[0m\u001b[0;34m.\u001b[0m\u001b[0mlong\u001b[0m\u001b[0;34m(\u001b[0m\u001b[0;34m)\u001b[0m\u001b[0;34m,\u001b[0m \u001b[0mdim\u001b[0m\u001b[0;34m=\u001b[0m\u001b[0;36m0\u001b[0m\u001b[0;34m)\u001b[0m\u001b[0;34m\u001b[0m\u001b[0;34m\u001b[0m\u001b[0m\n\u001b[1;32m     22\u001b[0m \u001b[0;34m\u001b[0m\u001b[0m\n",
      "\u001b[0;31mNameError\u001b[0m: name 'duration' is not defined"
     ]
    }
   ],
   "source": [
    "control = {\n",
    "    'duration': 1.0,\n",
    "    'pitch': 1.0,\n",
    "    'energy':1.0,\n",
    "} \n",
    "\n",
    "\n",
    "\n",
    "output, wav_paths = inference(\n",
    "                    text='Hi! How are you doing?', \n",
    "                    checkpoint_path='fastspeech2/checkpoints/epoch=119-step=96695.ckpt',\n",
    "                    vocoder='hifi',\n",
    "                    control=control\n",
    ")\n",
    "\n",
    "mel_postnet, mel_preds, pitch_preds, energy_preds, log_duration_preds = output\n",
    "\n",
    "durations = torch.clamp(\n",
    "    (torch.round(torch.exp(log_duration_preds) - 1)), min=0)\n",
    "pitch_preds = torch.repeat_interleave(pitch_preds, durations.long(), dim=0)\n",
    "energy_preds = torch.repeat_interleave(energy_preds, durations.long(), dim=0)\n",
    "\n",
    "plot_mel(mel_postnet, energy_preds, pitch_preds)"
   ]
  }
 ],
 "metadata": {
  "kernelspec": {
   "display_name": "Python 3 (ipykernel)",
   "language": "python",
   "name": "python3"
  },
  "language_info": {
   "codemirror_mode": {
    "name": "ipython",
    "version": 3
   },
   "file_extension": ".py",
   "mimetype": "text/x-python",
   "name": "python",
   "nbconvert_exporter": "python",
   "pygments_lexer": "ipython3",
   "version": "3.8.12"
  }
 },
 "nbformat": 4,
 "nbformat_minor": 5
}
